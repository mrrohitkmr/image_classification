{
  "nbformat": 4,
  "nbformat_minor": 0,
  "metadata": {
    "colab": {
      "provenance": []
    },
    "kernelspec": {
      "name": "python3",
      "display_name": "Python 3"
    },
    "language_info": {
      "name": "python"
    },
    "accelerator": "GPU",
    "gpuClass": "standard"
  },
  "cells": [
    {
      "cell_type": "code",
      "source": [
        "from __future__ import print_function\n",
        "import keras\n",
        "from keras.datasets import cifar10\n",
        "from keras.preprocessing.image import ImageDataGenerator\n",
        "from keras.models import Sequential\n",
        "from keras.layers import Dense, Dropout, Activation\n",
        "from keras.layers import Conv2D, MaxPooling2D, GlobalMaxPooling2D"
      ],
      "metadata": {
        "id": "vKR5l5acqLg0"
      },
      "execution_count": 1,
      "outputs": []
    },
    {
      "cell_type": "code",
      "source": [
        "batch_size = 32 \n",
        "num_classes = 10\n",
        "epochs = 100\n",
        "data_augmentation = True"
      ],
      "metadata": {
        "id": "yoYqkINcqMlg"
      },
      "execution_count": 2,
      "outputs": []
    },
    {
      "cell_type": "code",
      "source": [
        "# The data, shuffled and split between train and test sets:\n",
        "(x_train, y_train), (x_test, y_test) = cifar10.load_data()\n",
        "print('x_train shape:', x_train.shape)\n",
        "print(x_train.shape[0], 'train samples')\n",
        "print(x_test.shape[0], 'test samples')\n",
        "\n",
        "# Convert class vectors to binary class matrices.\n",
        "y_train = keras.utils.to_categorical(y_train, num_classes)\n",
        "y_test = keras.utils.to_categorical(y_test, num_classes)"
      ],
      "metadata": {
        "colab": {
          "base_uri": "https://localhost:8080/"
        },
        "id": "44ZLNrN7q28w",
        "outputId": "f6edae29-c320-4472-a1f6-1ae8170027c4"
      },
      "execution_count": 3,
      "outputs": [
        {
          "output_type": "stream",
          "name": "stdout",
          "text": [
            "Downloading data from https://www.cs.toronto.edu/~kriz/cifar-10-python.tar.gz\n",
            "170498071/170498071 [==============================] - 15s 0us/step\n",
            "x_train shape: (50000, 32, 32, 3)\n",
            "50000 train samples\n",
            "10000 test samples\n"
          ]
        }
      ]
    },
    {
      "cell_type": "code",
      "source": [
        "model = Sequential()\n",
        "\n",
        "model.add(Conv2D(32, (3, 3), padding='same',\n",
        "                 input_shape=x_train.shape[1:]))\n",
        "model.add(Activation('relu'))\n",
        "\n",
        "model.add(Conv2D(48, (3, 3), padding='same',\n",
        "                 input_shape=x_train.shape[1:]))\n",
        "model.add(Activation('relu'))\n",
        "model.add(MaxPooling2D(pool_size=(2, 2)))\n",
        "model.add(Dropout(0.25))\n",
        "\n",
        "model.add(Conv2D(80, (3, 3), padding='same',\n",
        "                 input_shape=x_train.shape[1:]))\n",
        "model.add(Activation('relu'))\n",
        "model.add(MaxPooling2D(pool_size=(2, 2)))\n",
        "model.add(Dropout(0.25))\n",
        "\n",
        "model.add(Conv2D(128, (3, 3), padding='same',\n",
        "                 input_shape=x_train.shape[1:]))\n",
        "model.add(GlobalMaxPooling2D())\n",
        "model.add(Dropout(0.25))\n",
        "\n",
        "\n",
        "model.add(Dense(500))\n",
        "model.add(Activation('relu'))\n",
        "model.add(Dropout(0.25))\n",
        "model.add(Dense(num_classes))\n",
        "model.add(Activation('softmax'))\n",
        "\n",
        "# initiate RMSprop optimizer\n",
        "opt = keras.optimizers.Adam(lr=0.0001)\n",
        "\n",
        "# Let's train the model using RMSprop\n",
        "model.compile(loss='categorical_crossentropy',\n",
        "              optimizer=opt,\n",
        "              metrics=['accuracy'])\n",
        "model.summary()"
      ],
      "metadata": {
        "colab": {
          "base_uri": "https://localhost:8080/"
        },
        "id": "ig8d1xDkq7So",
        "outputId": "4dcaad3c-8838-4d98-98d5-11292dc65fb4"
      },
      "execution_count": 4,
      "outputs": [
        {
          "output_type": "stream",
          "name": "stdout",
          "text": [
            "Model: \"sequential\"\n",
            "_________________________________________________________________\n",
            " Layer (type)                Output Shape              Param #   \n",
            "=================================================================\n",
            " conv2d (Conv2D)             (None, 32, 32, 32)        896       \n",
            "                                                                 \n",
            " activation (Activation)     (None, 32, 32, 32)        0         \n",
            "                                                                 \n",
            " conv2d_1 (Conv2D)           (None, 32, 32, 48)        13872     \n",
            "                                                                 \n",
            " activation_1 (Activation)   (None, 32, 32, 48)        0         \n",
            "                                                                 \n",
            " max_pooling2d (MaxPooling2D  (None, 16, 16, 48)       0         \n",
            " )                                                               \n",
            "                                                                 \n",
            " dropout (Dropout)           (None, 16, 16, 48)        0         \n",
            "                                                                 \n",
            " conv2d_2 (Conv2D)           (None, 16, 16, 80)        34640     \n",
            "                                                                 \n",
            " activation_2 (Activation)   (None, 16, 16, 80)        0         \n",
            "                                                                 \n",
            " max_pooling2d_1 (MaxPooling  (None, 8, 8, 80)         0         \n",
            " 2D)                                                             \n",
            "                                                                 \n",
            " dropout_1 (Dropout)         (None, 8, 8, 80)          0         \n",
            "                                                                 \n",
            " conv2d_3 (Conv2D)           (None, 8, 8, 128)         92288     \n",
            "                                                                 \n",
            " global_max_pooling2d (Globa  (None, 128)              0         \n",
            " lMaxPooling2D)                                                  \n",
            "                                                                 \n",
            " dropout_2 (Dropout)         (None, 128)               0         \n",
            "                                                                 \n",
            " dense (Dense)               (None, 500)               64500     \n",
            "                                                                 \n",
            " activation_3 (Activation)   (None, 500)               0         \n",
            "                                                                 \n",
            " dropout_3 (Dropout)         (None, 500)               0         \n",
            "                                                                 \n",
            " dense_1 (Dense)             (None, 10)                5010      \n",
            "                                                                 \n",
            " activation_4 (Activation)   (None, 10)                0         \n",
            "                                                                 \n",
            "=================================================================\n",
            "Total params: 211,206\n",
            "Trainable params: 211,206\n",
            "Non-trainable params: 0\n",
            "_________________________________________________________________\n"
          ]
        },
        {
          "output_type": "stream",
          "name": "stderr",
          "text": [
            "/usr/local/lib/python3.9/dist-packages/keras/optimizers/legacy/adam.py:117: UserWarning: The `lr` argument is deprecated, use `learning_rate` instead.\n",
            "  super().__init__(name, **kwargs)\n"
          ]
        }
      ]
    },
    {
      "cell_type": "code",
      "source": [
        "x_train = x_train.astype('float32')\n",
        "x_test = x_test.astype('float32')\n",
        "x_train /= 255\n",
        "x_test /= 255\n",
        "tbCallBack = keras.callbacks.TensorBoard(log_dir='./Graph2', histogram_freq=0, write_graph=True, write_images=True)"
      ],
      "metadata": {
        "id": "I32SH2aTra62"
      },
      "execution_count": 5,
      "outputs": []
    },
    {
      "cell_type": "code",
      "source": [
        "if not data_augmentation:\n",
        "    print('Not using data augmentation.')\n",
        "    model.fit(x_train, y_train,\n",
        "              batch_size=batch_size,\n",
        "              epochs=epochs,\n",
        "              validation_data=(x_test, y_test),\n",
        "              shuffle=True, callbacks=[tbCallBack])\n",
        "else:\n",
        "    print('Using real-time data augmentation.')\n",
        "    # This will do preprocessing and realtime data augmentation:\n",
        "    '''\n",
        "    datagen = ImageDataGenerator(\n",
        "        featurewise_center=False,  # set input mean to 0 over the dataset\n",
        "        samplewise_center=False,  # set each sample mean to 0\n",
        "        featurewise_std_normalization=False,  # divide inputs by std of the dataset\n",
        "        samplewise_std_normalization=False,  # divide each input by its std\n",
        "        zca_whitening=False,  # apply ZCA whitening\n",
        "        rotation_range=0,  # randomly rotate images in the range (degrees, 0 to 180)\n",
        "        width_shift_range=0.1,  # randomly shift images horizontally (fraction of total width)\n",
        "        height_shift_range=0.1,  # randomly shift images vertically (fraction of total height)\n",
        "        horizontal_flip=True,  # randomly flip images\n",
        "        vertical_flip=False)  # randomly flip images\n",
        "    '''\n",
        "    datagen = ImageDataGenerator(\n",
        "        featurewise_center=False,  # set input mean to 0 over the dataset\n",
        "        samplewise_center=False,  # set each sample mean to 0\n",
        "        featurewise_std_normalization=False,  # divide inputs by std of the dataset\n",
        "        samplewise_std_normalization=False,  # divide each input by its std\n",
        "        zca_whitening=False,  # apply ZCA whitening\n",
        "        rotation_range=10,  # randomly rotate images in the range (degrees, 0 to 180)\n",
        "        width_shift_range=0.2,  # randomly shift images horizontally (fraction of total width)\n",
        "        height_shift_range=0.2,  # randomly shift images vertically (fraction of total height)\n",
        "        horizontal_flip=True,  # randomly flip images\n",
        "        vertical_flip=False)  # randomly flip images\n",
        "\n",
        "\n",
        "    # Compute quantities required for feature-wise normalization\n",
        "    # (std, mean, and principal components if ZCA whitening is applied).\n",
        "    datagen.fit(x_train)\n",
        "\n",
        "    # Fit the model on the batches generated by datagen.flow().\n",
        "    model.fit_generator(datagen.flow(x_train, y_train,\n",
        "                                     batch_size=batch_size),\n",
        "                        steps_per_epoch=x_train.shape[0] // batch_size,\n",
        "                        epochs=epochs,\n",
        "                        validation_data=(x_test, y_test), callbacks=[tbCallBack])"
      ],
      "metadata": {
        "colab": {
          "base_uri": "https://localhost:8080/"
        },
        "id": "510XDSB8rlU7",
        "outputId": "cd191363-1332-4657-829a-d2521f14b751"
      },
      "execution_count": 6,
      "outputs": [
        {
          "metadata": {
            "tags": null
          },
          "name": "stdout",
          "output_type": "stream",
          "text": [
            "Using real-time data augmentation.\n",
            "Epoch 1/100\n"
          ]
        },
        {
          "metadata": {
            "tags": null
          },
          "name": "stderr",
          "output_type": "stream",
          "text": [
            "<ipython-input-6-c0aa93279554>:42: UserWarning: `Model.fit_generator` is deprecated and will be removed in a future version. Please use `Model.fit`, which supports generators.\n",
            "  model.fit_generator(datagen.flow(x_train, y_train,\n"
          ]
        },
        {
          "output_type": "stream",
          "name": "stdout",
          "text": [
            "1562/1562 [==============================] - 47s 24ms/step - loss: 2.0280 - accuracy: 0.2329 - val_loss: 1.8133 - val_accuracy: 0.3321\n",
            "Epoch 2/100\n",
            "1562/1562 [==============================] - 37s 24ms/step - loss: 1.7686 - accuracy: 0.3389 - val_loss: 1.6081 - val_accuracy: 0.4055\n",
            "Epoch 3/100\n",
            "1562/1562 [==============================] - 38s 24ms/step - loss: 1.6477 - accuracy: 0.3875 - val_loss: 1.5252 - val_accuracy: 0.4359\n",
            "Epoch 4/100\n",
            "1562/1562 [==============================] - 37s 24ms/step - loss: 1.5575 - accuracy: 0.4252 - val_loss: 1.4102 - val_accuracy: 0.4892\n",
            "Epoch 5/100\n",
            "1562/1562 [==============================] - 37s 24ms/step - loss: 1.4952 - accuracy: 0.4521 - val_loss: 1.3852 - val_accuracy: 0.4935\n",
            "Epoch 6/100\n",
            "1562/1562 [==============================] - 37s 24ms/step - loss: 1.4371 - accuracy: 0.4761 - val_loss: 1.3176 - val_accuracy: 0.5198\n",
            "Epoch 7/100\n",
            "1562/1562 [==============================] - 36s 23ms/step - loss: 1.3932 - accuracy: 0.4954 - val_loss: 1.2408 - val_accuracy: 0.5467\n",
            "Epoch 8/100\n",
            "1562/1562 [==============================] - 38s 24ms/step - loss: 1.3499 - accuracy: 0.5113 - val_loss: 1.2845 - val_accuracy: 0.5289\n",
            "Epoch 9/100\n",
            "1562/1562 [==============================] - 37s 24ms/step - loss: 1.3084 - accuracy: 0.5288 - val_loss: 1.2213 - val_accuracy: 0.5551\n",
            "Epoch 10/100\n",
            "1562/1562 [==============================] - 38s 24ms/step - loss: 1.2761 - accuracy: 0.5400 - val_loss: 1.1156 - val_accuracy: 0.5934\n",
            "Epoch 11/100\n",
            "1562/1562 [==============================] - 37s 24ms/step - loss: 1.2456 - accuracy: 0.5519 - val_loss: 1.0890 - val_accuracy: 0.6046\n",
            "Epoch 12/100\n",
            "1562/1562 [==============================] - 38s 24ms/step - loss: 1.2193 - accuracy: 0.5637 - val_loss: 1.1029 - val_accuracy: 0.5977\n",
            "Epoch 13/100\n",
            "1562/1562 [==============================] - 38s 24ms/step - loss: 1.1916 - accuracy: 0.5747 - val_loss: 1.1796 - val_accuracy: 0.5756\n",
            "Epoch 14/100\n",
            "1562/1562 [==============================] - 37s 24ms/step - loss: 1.1658 - accuracy: 0.5822 - val_loss: 1.0570 - val_accuracy: 0.6152\n",
            "Epoch 15/100\n",
            "1562/1562 [==============================] - 37s 23ms/step - loss: 1.1463 - accuracy: 0.5911 - val_loss: 1.0811 - val_accuracy: 0.6132\n",
            "Epoch 16/100\n",
            "1562/1562 [==============================] - 37s 24ms/step - loss: 1.1219 - accuracy: 0.6001 - val_loss: 1.0153 - val_accuracy: 0.6337\n",
            "Epoch 17/100\n",
            "1562/1562 [==============================] - 37s 24ms/step - loss: 1.1116 - accuracy: 0.6045 - val_loss: 1.0180 - val_accuracy: 0.6340\n",
            "Epoch 18/100\n",
            "1562/1562 [==============================] - 38s 25ms/step - loss: 1.0827 - accuracy: 0.6141 - val_loss: 0.9430 - val_accuracy: 0.6627\n",
            "Epoch 19/100\n",
            "1562/1562 [==============================] - 38s 24ms/step - loss: 1.0666 - accuracy: 0.6218 - val_loss: 0.9291 - val_accuracy: 0.6719\n",
            "Epoch 20/100\n",
            "1562/1562 [==============================] - 37s 24ms/step - loss: 1.0559 - accuracy: 0.6258 - val_loss: 0.9555 - val_accuracy: 0.6591\n",
            "Epoch 21/100\n",
            "1562/1562 [==============================] - 37s 24ms/step - loss: 1.0339 - accuracy: 0.6331 - val_loss: 0.9460 - val_accuracy: 0.6622\n",
            "Epoch 22/100\n",
            "1562/1562 [==============================] - 37s 24ms/step - loss: 1.0213 - accuracy: 0.6360 - val_loss: 0.9384 - val_accuracy: 0.6687\n",
            "Epoch 23/100\n",
            "1562/1562 [==============================] - 38s 24ms/step - loss: 1.0071 - accuracy: 0.6428 - val_loss: 0.9035 - val_accuracy: 0.6789\n",
            "Epoch 24/100\n",
            "1562/1562 [==============================] - 37s 24ms/step - loss: 0.9956 - accuracy: 0.6470 - val_loss: 0.8524 - val_accuracy: 0.6960\n",
            "Epoch 25/100\n",
            "1562/1562 [==============================] - 37s 24ms/step - loss: 0.9814 - accuracy: 0.6538 - val_loss: 0.8424 - val_accuracy: 0.7029\n",
            "Epoch 26/100\n",
            "1562/1562 [==============================] - 37s 24ms/step - loss: 0.9684 - accuracy: 0.6563 - val_loss: 0.8734 - val_accuracy: 0.6914\n",
            "Epoch 27/100\n",
            "1562/1562 [==============================] - 37s 24ms/step - loss: 0.9550 - accuracy: 0.6608 - val_loss: 0.8095 - val_accuracy: 0.7126\n",
            "Epoch 28/100\n",
            "1562/1562 [==============================] - 36s 23ms/step - loss: 0.9446 - accuracy: 0.6679 - val_loss: 0.8814 - val_accuracy: 0.6890\n",
            "Epoch 29/100\n",
            "1562/1562 [==============================] - 36s 23ms/step - loss: 0.9362 - accuracy: 0.6684 - val_loss: 0.8578 - val_accuracy: 0.6993\n",
            "Epoch 30/100\n",
            "1562/1562 [==============================] - 36s 23ms/step - loss: 0.9300 - accuracy: 0.6711 - val_loss: 0.8160 - val_accuracy: 0.7084\n",
            "Epoch 31/100\n",
            "1562/1562 [==============================] - 35s 23ms/step - loss: 0.9138 - accuracy: 0.6789 - val_loss: 0.7977 - val_accuracy: 0.7174\n",
            "Epoch 32/100\n",
            "1562/1562 [==============================] - 35s 23ms/step - loss: 0.9037 - accuracy: 0.6793 - val_loss: 0.8568 - val_accuracy: 0.7014\n",
            "Epoch 33/100\n",
            "1562/1562 [==============================] - 36s 23ms/step - loss: 0.8948 - accuracy: 0.6875 - val_loss: 0.7915 - val_accuracy: 0.7166\n",
            "Epoch 34/100\n",
            "1562/1562 [==============================] - 36s 23ms/step - loss: 0.8883 - accuracy: 0.6883 - val_loss: 0.7994 - val_accuracy: 0.7162\n",
            "Epoch 35/100\n",
            "1562/1562 [==============================] - 37s 23ms/step - loss: 0.8798 - accuracy: 0.6892 - val_loss: 0.7921 - val_accuracy: 0.7215\n",
            "Epoch 36/100\n",
            "1562/1562 [==============================] - 36s 23ms/step - loss: 0.8715 - accuracy: 0.6923 - val_loss: 0.7821 - val_accuracy: 0.7237\n",
            "Epoch 37/100\n",
            "1562/1562 [==============================] - 36s 23ms/step - loss: 0.8693 - accuracy: 0.6946 - val_loss: 0.8284 - val_accuracy: 0.7085\n",
            "Epoch 38/100\n",
            "1562/1562 [==============================] - 37s 24ms/step - loss: 0.8660 - accuracy: 0.6928 - val_loss: 0.7338 - val_accuracy: 0.7398\n",
            "Epoch 39/100\n",
            "1562/1562 [==============================] - 37s 24ms/step - loss: 0.8493 - accuracy: 0.6998 - val_loss: 0.7974 - val_accuracy: 0.7176\n",
            "Epoch 40/100\n",
            "1562/1562 [==============================] - 37s 24ms/step - loss: 0.8439 - accuracy: 0.7039 - val_loss: 0.7503 - val_accuracy: 0.7359\n",
            "Epoch 41/100\n",
            "1562/1562 [==============================] - 37s 24ms/step - loss: 0.8359 - accuracy: 0.7076 - val_loss: 0.7212 - val_accuracy: 0.7468\n",
            "Epoch 42/100\n",
            "1562/1562 [==============================] - 36s 23ms/step - loss: 0.8278 - accuracy: 0.7077 - val_loss: 0.7593 - val_accuracy: 0.7334\n",
            "Epoch 43/100\n",
            "1562/1562 [==============================] - 37s 23ms/step - loss: 0.8297 - accuracy: 0.7088 - val_loss: 0.7896 - val_accuracy: 0.7255\n",
            "Epoch 44/100\n",
            "1562/1562 [==============================] - 37s 23ms/step - loss: 0.8212 - accuracy: 0.7123 - val_loss: 0.7456 - val_accuracy: 0.7400\n",
            "Epoch 45/100\n",
            "1562/1562 [==============================] - 37s 24ms/step - loss: 0.8161 - accuracy: 0.7147 - val_loss: 0.7652 - val_accuracy: 0.7319\n",
            "Epoch 46/100\n",
            "1562/1562 [==============================] - 38s 25ms/step - loss: 0.8104 - accuracy: 0.7165 - val_loss: 0.7969 - val_accuracy: 0.7236\n",
            "Epoch 47/100\n",
            "1562/1562 [==============================] - 37s 24ms/step - loss: 0.8068 - accuracy: 0.7151 - val_loss: 0.7080 - val_accuracy: 0.7524\n",
            "Epoch 48/100\n",
            "1562/1562 [==============================] - 37s 24ms/step - loss: 0.8013 - accuracy: 0.7189 - val_loss: 0.7173 - val_accuracy: 0.7510\n",
            "Epoch 49/100\n",
            "1562/1562 [==============================] - 37s 24ms/step - loss: 0.7894 - accuracy: 0.7228 - val_loss: 0.7457 - val_accuracy: 0.7403\n",
            "Epoch 50/100\n",
            "1562/1562 [==============================] - 36s 23ms/step - loss: 0.7892 - accuracy: 0.7230 - val_loss: 0.6812 - val_accuracy: 0.7616\n",
            "Epoch 51/100\n",
            "1562/1562 [==============================] - 36s 23ms/step - loss: 0.7864 - accuracy: 0.7232 - val_loss: 0.6716 - val_accuracy: 0.7664\n",
            "Epoch 52/100\n",
            "1562/1562 [==============================] - 37s 24ms/step - loss: 0.7834 - accuracy: 0.7241 - val_loss: 0.6660 - val_accuracy: 0.7665\n",
            "Epoch 53/100\n",
            "1562/1562 [==============================] - 37s 24ms/step - loss: 0.7787 - accuracy: 0.7290 - val_loss: 0.7463 - val_accuracy: 0.7414\n",
            "Epoch 54/100\n",
            "1562/1562 [==============================] - 37s 24ms/step - loss: 0.7701 - accuracy: 0.7304 - val_loss: 0.6616 - val_accuracy: 0.7669\n",
            "Epoch 55/100\n",
            "1562/1562 [==============================] - 37s 24ms/step - loss: 0.7716 - accuracy: 0.7285 - val_loss: 0.6745 - val_accuracy: 0.7652\n",
            "Epoch 56/100\n",
            "1562/1562 [==============================] - 37s 24ms/step - loss: 0.7679 - accuracy: 0.7296 - val_loss: 0.6329 - val_accuracy: 0.7777\n",
            "Epoch 57/100\n",
            "1562/1562 [==============================] - 37s 24ms/step - loss: 0.7573 - accuracy: 0.7367 - val_loss: 0.6549 - val_accuracy: 0.7709\n",
            "Epoch 58/100\n",
            "1562/1562 [==============================] - 37s 24ms/step - loss: 0.7500 - accuracy: 0.7367 - val_loss: 0.6506 - val_accuracy: 0.7742\n",
            "Epoch 59/100\n",
            "1562/1562 [==============================] - 38s 24ms/step - loss: 0.7516 - accuracy: 0.7367 - val_loss: 0.6388 - val_accuracy: 0.7772\n",
            "Epoch 60/100\n",
            "1562/1562 [==============================] - 37s 24ms/step - loss: 0.7470 - accuracy: 0.7385 - val_loss: 0.7109 - val_accuracy: 0.7538\n",
            "Epoch 61/100\n",
            "1562/1562 [==============================] - 37s 23ms/step - loss: 0.7475 - accuracy: 0.7370 - val_loss: 0.7357 - val_accuracy: 0.7488\n",
            "Epoch 62/100\n",
            "1562/1562 [==============================] - 36s 23ms/step - loss: 0.7426 - accuracy: 0.7396 - val_loss: 0.6782 - val_accuracy: 0.7606\n",
            "Epoch 63/100\n",
            "1562/1562 [==============================] - 36s 23ms/step - loss: 0.7376 - accuracy: 0.7419 - val_loss: 0.6872 - val_accuracy: 0.7613\n",
            "Epoch 64/100\n",
            "1562/1562 [==============================] - 37s 24ms/step - loss: 0.7311 - accuracy: 0.7428 - val_loss: 0.6457 - val_accuracy: 0.7787\n",
            "Epoch 65/100\n",
            "1562/1562 [==============================] - 37s 23ms/step - loss: 0.7294 - accuracy: 0.7433 - val_loss: 0.6149 - val_accuracy: 0.7842\n",
            "Epoch 66/100\n",
            "1562/1562 [==============================] - 37s 24ms/step - loss: 0.7286 - accuracy: 0.7446 - val_loss: 0.6200 - val_accuracy: 0.7831\n",
            "Epoch 67/100\n",
            "1562/1562 [==============================] - 37s 23ms/step - loss: 0.7183 - accuracy: 0.7481 - val_loss: 0.7017 - val_accuracy: 0.7600\n",
            "Epoch 68/100\n",
            "1562/1562 [==============================] - 38s 24ms/step - loss: 0.7197 - accuracy: 0.7484 - val_loss: 0.6461 - val_accuracy: 0.7756\n",
            "Epoch 69/100\n",
            "1562/1562 [==============================] - 37s 24ms/step - loss: 0.7185 - accuracy: 0.7491 - val_loss: 0.6223 - val_accuracy: 0.7831\n",
            "Epoch 70/100\n",
            "1562/1562 [==============================] - 37s 23ms/step - loss: 0.7120 - accuracy: 0.7530 - val_loss: 0.6457 - val_accuracy: 0.7764\n",
            "Epoch 71/100\n",
            "1562/1562 [==============================] - 37s 24ms/step - loss: 0.7130 - accuracy: 0.7502 - val_loss: 0.6284 - val_accuracy: 0.7814\n",
            "Epoch 72/100\n",
            "1562/1562 [==============================] - 37s 24ms/step - loss: 0.7063 - accuracy: 0.7542 - val_loss: 0.6499 - val_accuracy: 0.7700\n",
            "Epoch 73/100\n",
            "1562/1562 [==============================] - 37s 24ms/step - loss: 0.7053 - accuracy: 0.7520 - val_loss: 0.6342 - val_accuracy: 0.7829\n",
            "Epoch 74/100\n",
            "1562/1562 [==============================] - 37s 24ms/step - loss: 0.7023 - accuracy: 0.7531 - val_loss: 0.5993 - val_accuracy: 0.7909\n",
            "Epoch 75/100\n",
            "1562/1562 [==============================] - 37s 24ms/step - loss: 0.7089 - accuracy: 0.7510 - val_loss: 0.6151 - val_accuracy: 0.7870\n",
            "Epoch 76/100\n",
            "1562/1562 [==============================] - 37s 23ms/step - loss: 0.6990 - accuracy: 0.7551 - val_loss: 0.6366 - val_accuracy: 0.7789\n",
            "Epoch 77/100\n",
            "1562/1562 [==============================] - 36s 23ms/step - loss: 0.7008 - accuracy: 0.7568 - val_loss: 0.6097 - val_accuracy: 0.7874\n",
            "Epoch 78/100\n",
            "1562/1562 [==============================] - 36s 23ms/step - loss: 0.6948 - accuracy: 0.7596 - val_loss: 0.6288 - val_accuracy: 0.7826\n",
            "Epoch 79/100\n",
            "1562/1562 [==============================] - 37s 23ms/step - loss: 0.6928 - accuracy: 0.7588 - val_loss: 0.6455 - val_accuracy: 0.7758\n",
            "Epoch 80/100\n",
            "1562/1562 [==============================] - 36s 23ms/step - loss: 0.6889 - accuracy: 0.7593 - val_loss: 0.6065 - val_accuracy: 0.7904\n",
            "Epoch 81/100\n",
            "1562/1562 [==============================] - 36s 23ms/step - loss: 0.6855 - accuracy: 0.7585 - val_loss: 0.5838 - val_accuracy: 0.7989\n",
            "Epoch 82/100\n",
            "1562/1562 [==============================] - 37s 24ms/step - loss: 0.6883 - accuracy: 0.7591 - val_loss: 0.5850 - val_accuracy: 0.8008\n",
            "Epoch 83/100\n",
            "1562/1562 [==============================] - 37s 24ms/step - loss: 0.6846 - accuracy: 0.7599 - val_loss: 0.5918 - val_accuracy: 0.7953\n",
            "Epoch 84/100\n",
            "1562/1562 [==============================] - 38s 24ms/step - loss: 0.6795 - accuracy: 0.7626 - val_loss: 0.6097 - val_accuracy: 0.7918\n",
            "Epoch 85/100\n",
            "1562/1562 [==============================] - 37s 24ms/step - loss: 0.6786 - accuracy: 0.7627 - val_loss: 0.6355 - val_accuracy: 0.7817\n",
            "Epoch 86/100\n",
            "1562/1562 [==============================] - 38s 24ms/step - loss: 0.6747 - accuracy: 0.7651 - val_loss: 0.5902 - val_accuracy: 0.7992\n",
            "Epoch 87/100\n",
            "1562/1562 [==============================] - 38s 24ms/step - loss: 0.6708 - accuracy: 0.7643 - val_loss: 0.5787 - val_accuracy: 0.7997\n",
            "Epoch 88/100\n",
            "1562/1562 [==============================] - 38s 24ms/step - loss: 0.6693 - accuracy: 0.7655 - val_loss: 0.6007 - val_accuracy: 0.7948\n",
            "Epoch 89/100\n",
            "1562/1562 [==============================] - 37s 24ms/step - loss: 0.6721 - accuracy: 0.7650 - val_loss: 0.6163 - val_accuracy: 0.7879\n",
            "Epoch 90/100\n",
            "1562/1562 [==============================] - 38s 24ms/step - loss: 0.6692 - accuracy: 0.7653 - val_loss: 0.6151 - val_accuracy: 0.7892\n",
            "Epoch 91/100\n",
            "1562/1562 [==============================] - 38s 24ms/step - loss: 0.6705 - accuracy: 0.7675 - val_loss: 0.6223 - val_accuracy: 0.7851\n",
            "Epoch 92/100\n",
            "1562/1562 [==============================] - 37s 24ms/step - loss: 0.6609 - accuracy: 0.7689 - val_loss: 0.6082 - val_accuracy: 0.7905\n",
            "Epoch 93/100\n",
            "1562/1562 [==============================] - 37s 24ms/step - loss: 0.6615 - accuracy: 0.7691 - val_loss: 0.5975 - val_accuracy: 0.7929\n",
            "Epoch 94/100\n",
            "1562/1562 [==============================] - 37s 24ms/step - loss: 0.6640 - accuracy: 0.7685 - val_loss: 0.5785 - val_accuracy: 0.8034\n",
            "Epoch 95/100\n",
            "1562/1562 [==============================] - 37s 24ms/step - loss: 0.6620 - accuracy: 0.7686 - val_loss: 0.6106 - val_accuracy: 0.7891\n",
            "Epoch 96/100\n",
            "1562/1562 [==============================] - 38s 24ms/step - loss: 0.6538 - accuracy: 0.7710 - val_loss: 0.5892 - val_accuracy: 0.7963\n",
            "Epoch 97/100\n",
            "1562/1562 [==============================] - 38s 24ms/step - loss: 0.6549 - accuracy: 0.7704 - val_loss: 0.5651 - val_accuracy: 0.8021\n",
            "Epoch 98/100\n",
            "1562/1562 [==============================] - 38s 24ms/step - loss: 0.6565 - accuracy: 0.7715 - val_loss: 0.5881 - val_accuracy: 0.7976\n",
            "Epoch 99/100\n",
            "1562/1562 [==============================] - 38s 24ms/step - loss: 0.6545 - accuracy: 0.7716 - val_loss: 0.5853 - val_accuracy: 0.7985\n",
            "Epoch 100/100\n",
            "1562/1562 [==============================] - 38s 24ms/step - loss: 0.6415 - accuracy: 0.7760 - val_loss: 0.5730 - val_accuracy: 0.8021\n"
          ]
        }
      ]
    },
    {
      "cell_type": "code",
      "source": [
        "scores=model.evaluate(x_test,y_test,verbose=1)\n",
        "print(\"Test Loss\",scores[0])\n",
        "print(\"Test Accuracy\",scores[1])"
      ],
      "metadata": {
        "colab": {
          "base_uri": "https://localhost:8080/"
        },
        "id": "8rhBnTvYsIN0",
        "outputId": "3d1bd48f-3be7-4b92-9c92-e3c02deab630"
      },
      "execution_count": 7,
      "outputs": [
        {
          "output_type": "stream",
          "name": "stdout",
          "text": [
            "313/313 [==============================] - 1s 4ms/step - loss: 0.5730 - accuracy: 0.8021\n",
            "Test Loss 0.5729948282241821\n",
            "Test Accuracy 0.8021000027656555\n"
          ]
        }
      ]
    },
    {
      "cell_type": "code",
      "source": [
        " "
      ],
      "metadata": {
        "id": "L7H7iWTe_5aT"
      },
      "execution_count": 7,
      "outputs": []
    }
  ]
}